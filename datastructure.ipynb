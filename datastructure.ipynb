{
 "cells": [
  {
   "cell_type": "markdown",
   "metadata": {},
   "source": [
    "# Data Types and Structures: Theory Questions"
   ]
  },
  {
   "cell_type": "code",
   "execution_count": 7,
   "metadata": {},
   "outputs": [
    {
     "data": {
      "text/plain": [
       "'\\nQ: What are data structures, and why are they important?\\n\\nAnswer:\\nData structures are ways of organizing and storing data in a computer so that it can be accessed and used efficiently. \\nThey are important because the choice of data structure can significantly impact the performance and efficiency of an algorithm. A well-chosen data structure can lead to faster run times and lower memory usage.\\n'"
      ]
     },
     "execution_count": 7,
     "metadata": {},
     "output_type": "execute_result"
    }
   ],
   "source": [
    "\"\"\"\n",
    "Q: What are data structures, and why are they important?\n",
    "\n",
    "Answer:\n",
    "Data structures are ways of organizing and storing data in a computer so that it can be accessed and used efficiently. \n",
    "They are important because the choice of data structure can significantly impact the performance and efficiency of an algorithm. A well-chosen data structure can lead to faster run times and lower memory usage.\n",
    "\"\"\""
   ]
  },
  {
   "cell_type": "code",
   "execution_count": 8,
   "metadata": {},
   "outputs": [
    {
     "data": {
      "text/plain": [
       "'\\nQ: Explain the difference between mutable and immutable data types with examples.\\n\\nAnswer:\\nMutable data types are those whose state or contents can be changed after they are created.\\n - Examples: Lists, Dictionaries, Sets\\n\\nImmutable data types are those whose state cannot be changed after they are created. Any operation that appears to modify them actually creates a new object.\\n - Examples: Strings, Tuples, Integers, Floats\\n'"
      ]
     },
     "execution_count": 8,
     "metadata": {},
     "output_type": "execute_result"
    }
   ],
   "source": [
    "\"\"\"\n",
    "Q: Explain the difference between mutable and immutable data types with examples.\n",
    "\n",
    "Answer:\n",
    "Mutable data types are those whose state or contents can be changed after they are created.\n",
    " - Examples: Lists, Dictionaries, Sets\n",
    "\n",
    "Immutable data types are those whose state cannot be changed after they are created. Any operation that appears to modify them actually creates a new object.\n",
    " - Examples: Strings, Tuples, Integers, Floats\n",
    "\"\"\""
   ]
  },
  {
   "cell_type": "code",
   "execution_count": 9,
   "metadata": {},
   "outputs": [
    {
     "data": {
      "text/plain": [
       "'\\nQ: What are the main differences between lists and tuples in Python?\\n\\nAnswer:\\n1. Mutability: Lists are mutable (can be changed), while tuples are immutable (cannot be changed).\\n2. Syntax: Lists are created with square brackets `[]`, while tuples are created with parentheses `()`.\\n3. Performance: Tuples are generally slightly faster and more memory-efficient than lists.\\n4. Use Case: Lists are used for collections of items that may need to change. Tuples are used for fixed collections of items, like coordinates or returning multiple values from a function.\\n'"
      ]
     },
     "execution_count": 9,
     "metadata": {},
     "output_type": "execute_result"
    }
   ],
   "source": [
    "\"\"\"\n",
    "Q: What are the main differences between lists and tuples in Python?\n",
    "\n",
    "Answer:\n",
    "1. Mutability: Lists are mutable (can be changed), while tuples are immutable (cannot be changed).\n",
    "2. Syntax: Lists are created with square brackets `[]`, while tuples are created with parentheses `()`.\n",
    "3. Performance: Tuples are generally slightly faster and more memory-efficient than lists.\n",
    "4. Use Case: Lists are used for collections of items that may need to change. Tuples are used for fixed collections of items, like coordinates or returning multiple values from a function.\n",
    "\"\"\""
   ]
  },
  {
   "cell_type": "code",
   "execution_count": 10,
   "metadata": {},
   "outputs": [
    {
     "data": {
      "text/plain": [
       "'\\nQ: Describe how dictionaries store data.\\n\\nAnswer:\\nDictionaries store data as key-value pairs. Internally, Python uses a hash table. When you add a key-value pair, Python applies a hash function to the key. The result of this hash function determines where in memory the corresponding value is stored. This allows for very fast lookups, additions, and deletions, with an average time complexity of O(1).\\n'"
      ]
     },
     "execution_count": 10,
     "metadata": {},
     "output_type": "execute_result"
    }
   ],
   "source": [
    "\"\"\"\n",
    "Q: Describe how dictionaries store data.\n",
    "\n",
    "Answer:\n",
    "Dictionaries store data as key-value pairs. Internally, Python uses a hash table. When you add a key-value pair, Python applies a hash function to the key. The result of this hash function determines where in memory the corresponding value is stored. This allows for very fast lookups, additions, and deletions, with an average time complexity of O(1).\n",
    "\"\"\""
   ]
  },
  {
   "cell_type": "code",
   "execution_count": 11,
   "metadata": {},
   "outputs": [
    {
     "data": {
      "text/plain": [
       "\"\\nQ: Why might you use a set instead of a list in Python?\\n\\nAnswer:\\nYou would use a set over a list primarily for two reasons:\\n1. Uniqueness: Sets automatically enforce that all elements are unique. If you add a duplicate item, it is ignored.\\n2. Fast Membership Testing: Checking if an item is `in` a set is significantly faster (average O(1) time) than checking if it's in a list (O(n) time), especially for large collections.\\nSets are also ideal for performing mathematical set operations like union, intersection, and difference.\\n\""
      ]
     },
     "execution_count": 11,
     "metadata": {},
     "output_type": "execute_result"
    }
   ],
   "source": [
    "\"\"\"\n",
    "Q: Why might you use a set instead of a list in Python?\n",
    "\n",
    "Answer:\n",
    "You would use a set over a list primarily for two reasons:\n",
    "1. Uniqueness: Sets automatically enforce that all elements are unique. If you add a duplicate item, it is ignored.\n",
    "2. Fast Membership Testing: Checking if an item is `in` a set is significantly faster (average O(1) time) than checking if it's in a list (O(n) time), especially for large collections.\n",
    "Sets are also ideal for performing mathematical set operations like union, intersection, and difference.\n",
    "\"\"\""
   ]
  },
  {
   "cell_type": "code",
   "execution_count": 12,
   "metadata": {},
   "outputs": [
    {
     "data": {
      "text/plain": [
       "'\\nQ: What is a string in Python, and how is it different from a list?\\n\\nAnswer:\\nA string is an immutable sequence of Unicode characters.\\nDifferences from a list:\\n1. Immutability: Strings are immutable, while lists are mutable.\\n2. Homogeneity: Strings can only contain characters. Lists can contain elements of any data type (integers, strings, other lists, etc.).\\n'"
      ]
     },
     "execution_count": 12,
     "metadata": {},
     "output_type": "execute_result"
    }
   ],
   "source": [
    "\"\"\"\n",
    "Q: What is a string in Python, and how is it different from a list?\n",
    "\n",
    "Answer:\n",
    "A string is an immutable sequence of Unicode characters.\n",
    "Differences from a list:\n",
    "1. Immutability: Strings are immutable, while lists are mutable.\n",
    "2. Homogeneity: Strings can only contain characters. Lists can contain elements of any data type (integers, strings, other lists, etc.).\n",
    "\"\"\""
   ]
  },
  {
   "cell_type": "code",
   "execution_count": 13,
   "metadata": {},
   "outputs": [
    {
     "data": {
      "text/plain": [
       "'\\nQ: How do tuples ensure data integrity in Python?\\n\\nAnswer:\\nTuples ensure data integrity through their immutability. Once a tuple is created, its elements cannot be added, removed, or changed. This guarantees that the data within the tuple remains constant throughout the program, protecting it from accidental modifications.\\n'"
      ]
     },
     "execution_count": 13,
     "metadata": {},
     "output_type": "execute_result"
    }
   ],
   "source": [
    "\"\"\"\n",
    "Q: How do tuples ensure data integrity in Python?\n",
    "\n",
    "Answer:\n",
    "Tuples ensure data integrity through their immutability. Once a tuple is created, its elements cannot be added, removed, or changed. This guarantees that the data within the tuple remains constant throughout the program, protecting it from accidental modifications.\n",
    "\"\"\""
   ]
  },
  {
   "cell_type": "code",
   "execution_count": 14,
   "metadata": {},
   "outputs": [
    {
     "data": {
      "text/plain": [
       "\"\\nQ: What is a hash table, and how does it relate to dictionaries in Python?\\n\\nAnswer:\\nA hash table is a data structure that maps keys to values for highly efficient lookup. Python's dictionaries are implemented using hash tables. The 'hashability' of an object (its ability to have a hash value that doesn't change) is why only immutable types can be used as dictionary keys.\\n\""
      ]
     },
     "execution_count": 14,
     "metadata": {},
     "output_type": "execute_result"
    }
   ],
   "source": [
    "\"\"\"\n",
    "Q: What is a hash table, and how does it relate to dictionaries in Python?\n",
    "\n",
    "Answer:\n",
    "A hash table is a data structure that maps keys to values for highly efficient lookup. Python's dictionaries are implemented using hash tables. The 'hashability' of an object (its ability to have a hash value that doesn't change) is why only immutable types can be used as dictionary keys.\n",
    "\"\"\""
   ]
  },
  {
   "cell_type": "code",
   "execution_count": 15,
   "metadata": {},
   "outputs": [
    {
     "data": {
      "text/plain": [
       "'\\nQ: Can lists contain different data types in Python?\\n\\nAnswer:\\nYes. Lists in Python are heterogeneous, meaning they can store elements of different data types in the same list. For example, a single list can contain integers, strings, floats, and even other lists or objects.\\nExample: `[1, \"hello\", 3.14, [10, 20]]`\\n'"
      ]
     },
     "execution_count": 15,
     "metadata": {},
     "output_type": "execute_result"
    }
   ],
   "source": [
    "\"\"\"\n",
    "Q: Can lists contain different data types in Python?\n",
    "\n",
    "Answer:\n",
    "Yes. Lists in Python are heterogeneous, meaning they can store elements of different data types in the same list. For example, a single list can contain integers, strings, floats, and even other lists or objects.\n",
    "Example: `[1, \"hello\", 3.14, [10, 20]]`\n",
    "\"\"\""
   ]
  },
  {
   "cell_type": "code",
   "execution_count": 16,
   "metadata": {},
   "outputs": [
    {
     "data": {
      "text/plain": [
       "\"\\nQ: Explain why strings are immutable in Python.\\n\\nAnswer:\\nStrings are immutable for several reasons:\\n1. Efficiency: When you assign a string to another variable, Python doesn't create a copy; it just points the new variable to the existing string in memory. This is safe because the string cannot be changed.\\n2. Hashing: Because they are immutable, strings have a constant hash value, which allows them to be used as keys in dictionaries.\\n3. Security: Immutability ensures that a string value passed to a function cannot be changed by that function, which can prevent unintended side effects.\\n\""
      ]
     },
     "execution_count": 16,
     "metadata": {},
     "output_type": "execute_result"
    }
   ],
   "source": [
    "\"\"\"\n",
    "Q: Explain why strings are immutable in Python.\n",
    "\n",
    "Answer:\n",
    "Strings are immutable for several reasons:\n",
    "1. Efficiency: When you assign a string to another variable, Python doesn't create a copy; it just points the new variable to the existing string in memory. This is safe because the string cannot be changed.\n",
    "2. Hashing: Because they are immutable, strings have a constant hash value, which allows them to be used as keys in dictionaries.\n",
    "3. Security: Immutability ensures that a string value passed to a function cannot be changed by that function, which can prevent unintended side effects.\n",
    "\"\"\""
   ]
  },
  {
   "cell_type": "code",
   "execution_count": 17,
   "metadata": {},
   "outputs": [
    {
     "data": {
      "text/plain": [
       "'\\nQ: What advantages do dictionaries offer over lists for certain tasks?\\n\\nAnswer:\\nDictionaries offer the advantage of fast, key-based lookups (average O(1) time), which is much faster than searching for an element in a list (O(n) time). They are also more descriptive, as data is accessed via meaningful keys rather than numerical indices, making the code more readable and self-documenting.\\n'"
      ]
     },
     "execution_count": 17,
     "metadata": {},
     "output_type": "execute_result"
    }
   ],
   "source": [
    "\"\"\"\n",
    "Q: What advantages do dictionaries offer over lists for certain tasks?\n",
    "\n",
    "Answer:\n",
    "Dictionaries offer the advantage of fast, key-based lookups (average O(1) time), which is much faster than searching for an element in a list (O(n) time). They are also more descriptive, as data is accessed via meaningful keys rather than numerical indices, making the code more readable and self-documenting.\n",
    "\"\"\""
   ]
  },
  {
   "cell_type": "code",
   "execution_count": 18,
   "metadata": {},
   "outputs": [
    {
     "data": {
      "text/plain": [
       "'\\nQ: Describe a scenario where using a tuple would be preferable over a list.\\n\\nAnswer:\\nA tuple is preferable when you have a collection of items that should not change. For example:\\n- Storing fixed coordinates: `point = (10, 20)`.\\n- Returning multiple values from a function: `return (name, age)`.\\n- Using a collection as a dictionary key, since keys must be immutable: `locations = {(42.36, -71.05): \"Boston\"}`.\\n'"
      ]
     },
     "execution_count": 18,
     "metadata": {},
     "output_type": "execute_result"
    }
   ],
   "source": [
    "\"\"\"\n",
    "Q: Describe a scenario where using a tuple would be preferable over a list.\n",
    "\n",
    "Answer:\n",
    "A tuple is preferable when you have a collection of items that should not change. For example:\n",
    "- Storing fixed coordinates: `point = (10, 20)`.\n",
    "- Returning multiple values from a function: `return (name, age)`.\n",
    "- Using a collection as a dictionary key, since keys must be immutable: `locations = {(42.36, -71.05): \"Boston\"}`.\n",
    "\"\"\""
   ]
  },
  {
   "cell_type": "code",
   "execution_count": 19,
   "metadata": {},
   "outputs": [
    {
     "data": {
      "text/plain": [
       "'\\nQ: How do sets handle duplicate values in Python?\\n\\nAnswer:\\nSets automatically handle duplicates by only storing one instance of each unique value. If you try to add an element that is already in the set, the set remains unchanged. This makes them perfect for tasks like finding the unique items in a list.\\n'"
      ]
     },
     "execution_count": 19,
     "metadata": {},
     "output_type": "execute_result"
    }
   ],
   "source": [
    "\"\"\"\n",
    "Q: How do sets handle duplicate values in Python?\n",
    "\n",
    "Answer:\n",
    "Sets automatically handle duplicates by only storing one instance of each unique value. If you try to add an element that is already in the set, the set remains unchanged. This makes them perfect for tasks like finding the unique items in a list.\n",
    "\"\"\""
   ]
  },
  {
   "cell_type": "code",
   "execution_count": 20,
   "metadata": {},
   "outputs": [
    {
     "data": {
      "text/plain": [
       "'\\nQ: How does the “in” keyword work differently for lists and dictionaries?\\n\\nAnswer:\\n- For lists, `value in my_list` checks if `value` is one of the *elements* in the list.\\n- For dictionaries, `key in my_dict` checks if `key` is one of the *keys* in the dictionary. It does not check the values.\\n'"
      ]
     },
     "execution_count": 20,
     "metadata": {},
     "output_type": "execute_result"
    }
   ],
   "source": [
    "\"\"\"\n",
    "Q: How does the “in” keyword work differently for lists and dictionaries?\n",
    "\n",
    "Answer:\n",
    "- For lists, `value in my_list` checks if `value` is one of the *elements* in the list.\n",
    "- For dictionaries, `key in my_dict` checks if `key` is one of the *keys* in the dictionary. It does not check the values.\n",
    "\"\"\""
   ]
  },
  {
   "cell_type": "code",
   "execution_count": 21,
   "metadata": {},
   "outputs": [
    {
     "data": {
      "text/plain": [
       "'\\nQ: Can you modify the elements of a tuple? Explain why or why not.\\n\\nAnswer:\\nNo, you cannot modify the elements of a tuple directly because tuples are immutable. Attempting to reassign an element (e.g., `my_tuple[0] = 5`) will result in a TypeError. However, if a tuple contains a mutable object (like a list), the contents of that mutable object can be changed.\\n'"
      ]
     },
     "execution_count": 21,
     "metadata": {},
     "output_type": "execute_result"
    }
   ],
   "source": [
    "\"\"\"\n",
    "Q: Can you modify the elements of a tuple? Explain why or why not.\n",
    "\n",
    "Answer:\n",
    "No, you cannot modify the elements of a tuple directly because tuples are immutable. Attempting to reassign an element (e.g., `my_tuple[0] = 5`) will result in a TypeError. However, if a tuple contains a mutable object (like a list), the contents of that mutable object can be changed.\n",
    "\"\"\""
   ]
  },
  {
   "cell_type": "code",
   "execution_count": 22,
   "metadata": {},
   "outputs": [
    {
     "data": {
      "text/plain": [
       "\"\\nQ: What is a nested dictionary, and give an example of its use case?\\n\\nAnswer:\\nA nested dictionary is a dictionary that contains other dictionaries as its values. This is useful for representing structured, hierarchical data.\\nUse Case: Storing information about multiple users, where each user is a key and their details (name, age) are stored in another dictionary.\\nExample:\\nusers = {\\n    'user1': {'name': 'Alice', 'age': 30},\\n    'user2': {'name': 'Bob', 'age': 25}\\n}\\n\""
      ]
     },
     "execution_count": 22,
     "metadata": {},
     "output_type": "execute_result"
    }
   ],
   "source": [
    "\"\"\"\n",
    "Q: What is a nested dictionary, and give an example of its use case?\n",
    "\n",
    "Answer:\n",
    "A nested dictionary is a dictionary that contains other dictionaries as its values. This is useful for representing structured, hierarchical data.\n",
    "Use Case: Storing information about multiple users, where each user is a key and their details (name, age) are stored in another dictionary.\n",
    "Example:\n",
    "users = {\n",
    "    'user1': {'name': 'Alice', 'age': 30},\n",
    "    'user2': {'name': 'Bob', 'age': 25}\n",
    "}\n",
    "\"\"\""
   ]
  },
  {
   "cell_type": "code",
   "execution_count": 23,
   "metadata": {},
   "outputs": [
    {
     "data": {
      "text/plain": [
       "'\\nQ: Describe the time complexity of accessing elements in a dictionary.\\n\\nAnswer:\\nThe time complexity of accessing, inserting, and deleting elements in a dictionary is O(1) on average. This means the operation takes a constant amount of time, regardless of the size of the dictionary. In the rare worst-case scenario (due to hash collisions), it can be O(n).\\n'"
      ]
     },
     "execution_count": 23,
     "metadata": {},
     "output_type": "execute_result"
    }
   ],
   "source": [
    "\"\"\"\n",
    "Q: Describe the time complexity of accessing elements in a dictionary.\n",
    "\n",
    "Answer:\n",
    "The time complexity of accessing, inserting, and deleting elements in a dictionary is O(1) on average. This means the operation takes a constant amount of time, regardless of the size of the dictionary. In the rare worst-case scenario (due to hash collisions), it can be O(n).\n",
    "\"\"\""
   ]
  },
  {
   "cell_type": "code",
   "execution_count": 24,
   "metadata": {},
   "outputs": [
    {
     "data": {
      "text/plain": [
       "'\\nQ: In what situations are lists preferred over dictionaries?\\n\\nAnswer:\\nLists are preferred when:\\n- The order of elements is important and needs to be maintained.\\n- You need to access elements by their numerical position (index).\\n- You simply have a collection of items that do not have a natural key-value relationship.\\n'"
      ]
     },
     "execution_count": 24,
     "metadata": {},
     "output_type": "execute_result"
    }
   ],
   "source": [
    "\"\"\"\n",
    "Q: In what situations are lists preferred over dictionaries?\n",
    "\n",
    "Answer:\n",
    "Lists are preferred when:\n",
    "- The order of elements is important and needs to be maintained.\n",
    "- You need to access elements by their numerical position (index).\n",
    "- You simply have a collection of items that do not have a natural key-value relationship.\n",
    "\"\"\""
   ]
  },
  {
   "cell_type": "code",
   "execution_count": 25,
   "metadata": {},
   "outputs": [
    {
     "data": {
      "text/plain": [
       "'\\nQ: Why are dictionaries considered unordered, and how does that affect data retrieval?\\n\\nAnswer:\\nHistorically (before Python 3.7), dictionaries were unordered because their internal hash table implementation did not preserve the insertion order of elements. While modern Python versions (3.7+) do maintain insertion order, the fundamental principle of a dictionary is that data is retrieved by its key, not by its position. You should always access dictionary elements using their keys, not by relying on their order.\\n'"
      ]
     },
     "execution_count": 25,
     "metadata": {},
     "output_type": "execute_result"
    }
   ],
   "source": [
    "\"\"\"\n",
    "Q: Why are dictionaries considered unordered, and how does that affect data retrieval?\n",
    "\n",
    "Answer:\n",
    "Historically (before Python 3.7), dictionaries were unordered because their internal hash table implementation did not preserve the insertion order of elements. While modern Python versions (3.7+) do maintain insertion order, the fundamental principle of a dictionary is that data is retrieved by its key, not by its position. You should always access dictionary elements using their keys, not by relying on their order.\n",
    "\"\"\""
   ]
  },
  {
   "cell_type": "code",
   "execution_count": 26,
   "metadata": {},
   "outputs": [
    {
     "data": {
      "text/plain": [
       "\"\\nQ: Explain the difference between a list and a dictionary in terms of data retrieval.\\n\\nAnswer:\\n- In a list, data is retrieved using an integer index that represents its position in the sequence (e.g., `my_list[0]`).\\n- In a dictionary, data is retrieved using a unique key that is associated with a value (e.g., `my_dict['name']`). Retrieval is by label, not position.\\n\""
      ]
     },
     "execution_count": 26,
     "metadata": {},
     "output_type": "execute_result"
    }
   ],
   "source": [
    "\"\"\"\n",
    "Q: Explain the difference between a list and a dictionary in terms of data retrieval.\n",
    "\n",
    "Answer:\n",
    "- In a list, data is retrieved using an integer index that represents its position in the sequence (e.g., `my_list[0]`).\n",
    "- In a dictionary, data is retrieved using a unique key that is associated with a value (e.g., `my_dict['name']`). Retrieval is by label, not position.\n",
    "\"\"\""
   ]
  },
  {
   "cell_type": "markdown",
   "metadata": {},
   "source": [
    "# Practical Questions"
   ]
  },
  {
   "cell_type": "code",
   "execution_count": 27,
   "metadata": {},
   "outputs": [
    {
     "name": "stdout",
     "output_type": "stream",
     "text": [
      "Jitul\n"
     ]
    }
   ],
   "source": [
    "# 1. Write a code to create a string with your name and print it\n",
    "my_name = \"Jitul\"\n",
    "print(my_name)"
   ]
  },
  {
   "cell_type": "code",
   "execution_count": 28,
   "metadata": {},
   "outputs": [
    {
     "name": "stdout",
     "output_type": "stream",
     "text": [
      "11\n"
     ]
    }
   ],
   "source": [
    "# 2. Write a code to find the length of the string \"Hello World\"\n",
    "text = \"Hello World\"\n",
    "print(len(text))"
   ]
  },
  {
   "cell_type": "code",
   "execution_count": 29,
   "metadata": {},
   "outputs": [
    {
     "name": "stdout",
     "output_type": "stream",
     "text": [
      "Pyt\n"
     ]
    }
   ],
   "source": [
    "# 3. Write a code to slice the first 3 characters from the string \"Python Programming\"\n",
    "text = \"Python Programming\"\n",
    "print(text[:3])"
   ]
  },
  {
   "cell_type": "code",
   "execution_count": 30,
   "metadata": {},
   "outputs": [
    {
     "name": "stdout",
     "output_type": "stream",
     "text": [
      "HELLO\n"
     ]
    }
   ],
   "source": [
    "# 4. Write a code to convert the string \"hello\" to uppercase\n",
    "text = \"hello\"\n",
    "print(text.upper())"
   ]
  },
  {
   "cell_type": "code",
   "execution_count": 31,
   "metadata": {},
   "outputs": [
    {
     "name": "stdout",
     "output_type": "stream",
     "text": [
      "I like orange\n"
     ]
    }
   ],
   "source": [
    "# 5. Write a code to replace the word \"apple\" with \"orange\" in the string \"I like apple\"\n",
    "text = \"I like apple\"\n",
    "print(text.replace(\"apple\", \"orange\"))"
   ]
  },
  {
   "cell_type": "code",
   "execution_count": 32,
   "metadata": {},
   "outputs": [
    {
     "name": "stdout",
     "output_type": "stream",
     "text": [
      "[1, 2, 3, 4, 5]\n"
     ]
    }
   ],
   "source": [
    "# 6. Write a code to create a list with numbers 1 to 5 and print it\n",
    "numbers = [1, 2, 3, 4, 5]\n",
    "print(numbers)"
   ]
  },
  {
   "cell_type": "code",
   "execution_count": 33,
   "metadata": {},
   "outputs": [
    {
     "name": "stdout",
     "output_type": "stream",
     "text": [
      "[1, 2, 3, 4, 10]\n"
     ]
    }
   ],
   "source": [
    "# 7. Write a code to append the number 10 to the list [1, 2, 3, 4]\n",
    "numbers = [1, 2, 3, 4]\n",
    "numbers.append(10)\n",
    "print(numbers)"
   ]
  },
  {
   "cell_type": "code",
   "execution_count": 34,
   "metadata": {},
   "outputs": [
    {
     "name": "stdout",
     "output_type": "stream",
     "text": [
      "[1, 2, 4, 5]\n"
     ]
    }
   ],
   "source": [
    "# 8. Write a code to remove the number 3 from the list [1, 2, 3, 4, 5]\n",
    "numbers = [1, 2, 3, 4, 5]\n",
    "numbers.remove(3)\n",
    "print(numbers)"
   ]
  },
  {
   "cell_type": "code",
   "execution_count": 35,
   "metadata": {},
   "outputs": [
    {
     "name": "stdout",
     "output_type": "stream",
     "text": [
      "b\n"
     ]
    }
   ],
   "source": [
    "# 9. Write a code to access the second element in the list ['a', 'b', 'c', 'd']\n",
    "letters = ['a', 'b', 'c', 'd']\n",
    "print(letters[1])"
   ]
  },
  {
   "cell_type": "code",
   "execution_count": 36,
   "metadata": {},
   "outputs": [
    {
     "name": "stdout",
     "output_type": "stream",
     "text": [
      "[50, 40, 30, 20, 10]\n"
     ]
    }
   ],
   "source": [
    "# 10. Write a code to reverse the list [10, 20, 30, 40, 50].\n",
    "numbers = [10, 20, 30, 40, 50]\n",
    "numbers.reverse()\n",
    "print(numbers)"
   ]
  },
  {
   "cell_type": "code",
   "execution_count": 37,
   "metadata": {},
   "outputs": [
    {
     "name": "stdout",
     "output_type": "stream",
     "text": [
      "(100, 200, 300)\n"
     ]
    }
   ],
   "source": [
    "# 11. Write a code to create a tuple with the elements 100, 200, 300 and print it.\n",
    "my_tuple = (100, 200, 300)\n",
    "print(my_tuple)"
   ]
  },
  {
   "cell_type": "code",
   "execution_count": 38,
   "metadata": {},
   "outputs": [
    {
     "name": "stdout",
     "output_type": "stream",
     "text": [
      "blue\n"
     ]
    }
   ],
   "source": [
    "# 12. Write a code to access the second-to-last element of the tuple ('red', 'green', 'blue', 'yellow').\n",
    "colors = ('red', 'green', 'blue', 'yellow')\n",
    "print(colors[-2])"
   ]
  },
  {
   "cell_type": "code",
   "execution_count": 39,
   "metadata": {},
   "outputs": [
    {
     "name": "stdout",
     "output_type": "stream",
     "text": [
      "5\n"
     ]
    }
   ],
   "source": [
    "# 13. Write a code to find the minimum number in the tuple (10, 20, 5, 15).\n",
    "numbers = (10, 20, 5, 15)\n",
    "print(min(numbers))"
   ]
  },
  {
   "cell_type": "code",
   "execution_count": 40,
   "metadata": {},
   "outputs": [
    {
     "name": "stdout",
     "output_type": "stream",
     "text": [
      "1\n"
     ]
    }
   ],
   "source": [
    "# 14. Write a code to find the index of the element \"cat\" in the tuple ('dog', 'cat', 'rabbit').\n",
    "animals = ('dog', 'cat', 'rabbit')\n",
    "print(animals.index('cat'))"
   ]
  },
  {
   "cell_type": "code",
   "execution_count": 41,
   "metadata": {},
   "outputs": [
    {
     "name": "stdout",
     "output_type": "stream",
     "text": [
      "False\n"
     ]
    }
   ],
   "source": [
    "# 15. Write a code to create a tuple containing three different fruits and check if \"kiwi\" is in it.\n",
    "fruits = ('apple', 'banana', 'orange')\n",
    "is_present = \"kiwi\" in fruits\n",
    "print(is_present)"
   ]
  },
  {
   "cell_type": "code",
   "execution_count": 42,
   "metadata": {},
   "outputs": [
    {
     "name": "stdout",
     "output_type": "stream",
     "text": [
      "{'b', 'c', 'a'}\n"
     ]
    }
   ],
   "source": [
    "# 16. Write a code to create a set with the elements 'a', 'b', 'c' and print it.\n",
    "my_set = {'a', 'b', 'c'}\n",
    "print(my_set)"
   ]
  },
  {
   "cell_type": "code",
   "execution_count": 43,
   "metadata": {},
   "outputs": [
    {
     "name": "stdout",
     "output_type": "stream",
     "text": [
      "set()\n"
     ]
    }
   ],
   "source": [
    "# 17. Write a code to clear all elements from the set {1, 2, 3, 4, 5}.\n",
    "numbers = {1, 2, 3, 4, 5}\n",
    "numbers.clear()\n",
    "print(numbers)"
   ]
  },
  {
   "cell_type": "code",
   "execution_count": 44,
   "metadata": {},
   "outputs": [
    {
     "name": "stdout",
     "output_type": "stream",
     "text": [
      "{1, 2, 3}\n"
     ]
    }
   ],
   "source": [
    "# 18. Write a code to remove the element 4 from the set {1, 2, 3, 4}.\n",
    "numbers = {1, 2, 3, 4}\n",
    "numbers.remove(4)\n",
    "print(numbers)"
   ]
  },
  {
   "cell_type": "code",
   "execution_count": 45,
   "metadata": {},
   "outputs": [
    {
     "name": "stdout",
     "output_type": "stream",
     "text": [
      "{1, 2, 3, 4, 5}\n"
     ]
    }
   ],
   "source": [
    "# 19. Write a code to find the union of two sets {1, 2, 3} and {3, 4, 5}.\n",
    "set1 = {1, 2, 3}\n",
    "set2 = {3, 4, 5}\n",
    "union_set = set1.union(set2)\n",
    "print(union_set)"
   ]
  },
  {
   "cell_type": "code",
   "execution_count": 46,
   "metadata": {},
   "outputs": [
    {
     "name": "stdout",
     "output_type": "stream",
     "text": [
      "{2, 3}\n"
     ]
    }
   ],
   "source": [
    "# 20. Write a code to find the intersection of two sets {1, 2, 3} and {2, 3, 4}.\n",
    "set1 = {1, 2, 3}\n",
    "set2 = {2, 3, 4}\n",
    "intersection_set = set1.intersection(set2)\n",
    "print(intersection_set)"
   ]
  },
  {
   "cell_type": "code",
   "execution_count": 47,
   "metadata": {},
   "outputs": [
    {
     "name": "stdout",
     "output_type": "stream",
     "text": [
      "{'name': 'Jitul', 'age': 25, 'city': 'Guwahati'}\n"
     ]
    }
   ],
   "source": [
    "# 21. Write a code to create a dictionary with the keys \"name\", \"age\", and \"city\", and print it.\n",
    "my_dict = {\n",
    "    \"name\": \"Jitul\",\n",
    "    \"age\": 25,\n",
    "    \"city\": \"Guwahati\"\n",
    "}\n",
    "print(my_dict)"
   ]
  },
  {
   "cell_type": "code",
   "execution_count": 48,
   "metadata": {},
   "outputs": [
    {
     "name": "stdout",
     "output_type": "stream",
     "text": [
      "{'name': 'John', 'age': 25, 'country': 'USA'}\n"
     ]
    }
   ],
   "source": [
    "# 22. Write a code to add a new key-value pair \"country\": \"USA\" to the dictionary {'name': 'John', 'age': 25}.\n",
    "person = {'name': 'John', 'age': 25}\n",
    "person['country'] = \"USA\"\n",
    "print(person)"
   ]
  },
  {
   "cell_type": "code",
   "execution_count": 49,
   "metadata": {},
   "outputs": [
    {
     "name": "stdout",
     "output_type": "stream",
     "text": [
      "Alice\n"
     ]
    }
   ],
   "source": [
    "# 23. Write a code to access the value associated with the key \"name\" in the dictionary {'name': 'Alice', 'age': 30}.\n",
    "person = {'name': 'Alice', 'age': 30}\n",
    "print(person['name'])"
   ]
  },
  {
   "cell_type": "code",
   "execution_count": 50,
   "metadata": {},
   "outputs": [
    {
     "name": "stdout",
     "output_type": "stream",
     "text": [
      "{'name': 'Bob', 'city': 'New York'}\n"
     ]
    }
   ],
   "source": [
    "# 24. Write a code to remove the key \"age\" from the dictionary {'name': 'Bob', 'age': 22, 'city': 'New York'}.\n",
    "person = {'name': 'Bob', 'age': 22, 'city': 'New York'}\n",
    "del person['age']\n",
    "print(person)"
   ]
  },
  {
   "cell_type": "code",
   "execution_count": 51,
   "metadata": {},
   "outputs": [
    {
     "name": "stdout",
     "output_type": "stream",
     "text": [
      "True\n"
     ]
    }
   ],
   "source": [
    "# 25. Write a code to check if the key \"city\" exists in the dictionary {'name': 'Alice', 'city': 'Paris'}.\n",
    "person = {'name': 'Alice', 'city': 'Paris'}\n",
    "key_exists = \"city\" in person\n",
    "print(key_exists)"
   ]
  },
  {
   "cell_type": "code",
   "execution_count": 52,
   "metadata": {},
   "outputs": [
    {
     "name": "stdout",
     "output_type": "stream",
     "text": [
      "List: [1, 'hello', 3.14]\n",
      "Tuple: (1, 'hello', 3.14)\n",
      "Dictionary: {'a': 1, 'b': 'hello', 'c': 3.14}\n"
     ]
    }
   ],
   "source": [
    "# 26. Write a code to create a list, a tuple, and a dictionary, and print them all.\n",
    "my_list = [1, 'hello', 3.14]\n",
    "my_tuple = (1, 'hello', 3.14)\n",
    "my_dict = {'a': 1, 'b': 'hello', 'c': 3.14}\n",
    "\n",
    "print(f\"List: {my_list}\")\n",
    "print(f\"Tuple: {my_tuple}\")\n",
    "print(f\"Dictionary: {my_dict}\")"
   ]
  },
  {
   "cell_type": "code",
   "execution_count": 53,
   "metadata": {},
   "outputs": [
    {
     "name": "stdout",
     "output_type": "stream",
     "text": [
      "[21, 35, 63, 64, 98]\n"
     ]
    }
   ],
   "source": [
    "# 27. Write a code to create a list of 5 random numbers between 1 and 100, sort it in ascending order, and print the result.\n",
    "import random\n",
    "\n",
    "random_numbers = [random.randint(1, 100) for _ in range(5)]\n",
    "random_numbers.sort()\n",
    "print(random_numbers)"
   ]
  },
  {
   "cell_type": "code",
   "execution_count": 54,
   "metadata": {},
   "outputs": [
    {
     "name": "stdout",
     "output_type": "stream",
     "text": [
      "date\n"
     ]
    }
   ],
   "source": [
    "# 28. Write a code to create a list with strings and print the element at the third index.\n",
    "fruits = [\"apple\", \"banana\", \"cherry\", \"date\", \"elderberry\"]\n",
    "print(fruits[3])"
   ]
  },
  {
   "cell_type": "code",
   "execution_count": 55,
   "metadata": {},
   "outputs": [
    {
     "name": "stdout",
     "output_type": "stream",
     "text": [
      "{'a': 1, 'b': 2, 'c': 3, 'd': 4}\n"
     ]
    }
   ],
   "source": [
    "# 29. Write a code to combine two dictionaries into one and print the result.\n",
    "dict1 = {'a': 1, 'b': 2}\n",
    "dict2 = {'c': 3, 'd': 4}\n",
    "\n",
    "# In Python 3.5+\n",
    "combined_dict = {**dict1, **dict2}\n",
    "print(combined_dict)"
   ]
  },
  {
   "cell_type": "code",
   "execution_count": 56,
   "metadata": {},
   "outputs": [
    {
     "name": "stdout",
     "output_type": "stream",
     "text": [
      "{'cherry', 'banana', 'apple'}\n"
     ]
    }
   ],
   "source": [
    "# 30. Write a code to convert a list of strings into a set\n",
    "list_of_strings = [\"apple\", \"banana\", \"apple\", \"cherry\", \"banana\"]\n",
    "my_set = set(list_of_strings)\n",
    "print(my_set)"
   ]
  }
 ],
 "metadata": {
  "kernelspec": {
   "display_name": "Python 3 (ipykernel)",
   "language": "python",
   "name": "python3"
  },
  "language_info": {
   "codemirror_mode": {
    "name": "ipython",
    "version": 3
   },
   "file_extension": ".py",
   "mimetype": "text/x-python",
   "name": "python",
   "nbconvert_exporter": "python",
   "pygments_lexer": "ipython3",
   "version": "3.13.6"
  }
 },
 "nbformat": 4,
 "nbformat_minor": 4
}
